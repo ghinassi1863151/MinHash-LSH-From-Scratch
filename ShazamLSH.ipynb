{
 "cells": [
  {
   "cell_type": "markdown",
   "id": "d8732671-67c0-43e1-802a-7263187c26cb",
   "metadata": {},
   "source": [
    "# Implementing Shazam from scratch\n",
    "Shazam is a great application that can tell you the title of a song by listening to a short sample. We will implement a simplified copy of this app by dealing with hashing algorithms. In particular implementing an LSH algorithm that takes as input an audio track and finds relevant matches."
   ]
  },
  {
   "cell_type": "markdown",
   "id": "09b316d6-a0a6-4883-a319-5d2c1b9f5691",
   "metadata": {},
   "source": [
    "# 1. The dataset\n",
    "\n",
    "We used a kaggle dataset containing songs in an mp3 format that we will convert to wav:\n",
    "https://www.kaggle.com/dhrumil140396/mp3s32k"
   ]
  },
  {
   "cell_type": "code",
   "execution_count": null,
   "id": "4cbdabb9-2b90-4053-af0a-635cb83305c5",
   "metadata": {
    "tags": []
   },
   "outputs": [],
   "source": [
    "data_folder = Path(f.PATH_SONGS_FOLDER)\n",
    "mp3_tracks = data_folder.glob(\"*/*/*.mp3\")\n",
    "tracks = data_folder.glob(\"*/*/*.wav\")"
   ]
  },
  {
   "cell_type": "code",
   "execution_count": null,
   "id": "b33ea1b9-4247-4aab-8d5e-191f92356904",
   "metadata": {},
   "outputs": [],
   "source": [
    "for track in tqdm(mp3_tracks, total=N_TRACKS):\n",
    "    convert_mp3_to_wav(str(track))"
   ]
  },
  {
   "cell_type": "markdown",
   "id": "35a5f38e-813a-40ea-bed6-4f06c1a90443",
   "metadata": {},
   "source": [
    "# 2. Fingerprint Hashing \n",
    "We want to create a representation of our audio signal that allows us to characterize it with respect to its peaks. Once this process is complete, we can adopt a hashing function to get a fingerprint of each song."
   ]
  },
  {
   "cell_type": "markdown",
   "id": "6267a405-2557-40f2-b815-75cd8e92d29e",
   "metadata": {},
   "source": [
    "#### First we extract the peaks for each song\n",
    "To apply the LSH it is important to round the shingles in order to have a smaller number of shingles and less discriminant, this will allow us to find the buckets when implementing the LSH"
   ]
  },
  {
   "cell_type": "code",
   "execution_count": null,
   "id": "21d99eb1-c900-438e-a8db-50a76c17d1c1",
   "metadata": {},
   "outputs": [],
   "source": [
    "song_peaks = f.extract_peaks(song_path, rounded = True)"
   ]
  },
  {
   "cell_type": "markdown",
   "id": "cd7d9a30-a9ce-4684-8829-6bb1cafcb2a3",
   "metadata": {},
   "source": [
    "#### Then we store in an array all the unique shingles\n",
    "This will allow us to create the shingles matrix, a matrix with the shingles on the rows and the songs on the columns. There will be a 1 in the cell **(i,j)** if the shingle **i** is present in the song **j**."
   ]
  },
  {
   "cell_type": "code",
   "execution_count": null,
   "id": "8c5a488b-c31e-47d0-8b95-7db8dc6084c2",
   "metadata": {},
   "outputs": [],
   "source": [
    "shingles = f.unique_shingles(song_peaks)"
   ]
  },
  {
   "cell_type": "markdown",
   "id": "93b10f4f-c79e-40e0-be6f-217efe62e632",
   "metadata": {},
   "source": [
    "#### Finally we build the shingls matrix"
   ]
  },
  {
   "cell_type": "code",
   "execution_count": null,
   "id": "281af9bd-3e6c-424c-a19a-911bddbb551c",
   "metadata": {},
   "outputs": [],
   "source": [
    "matrix = shingles_matrix(shingles, song_peaks)"
   ]
  },
  {
   "cell_type": "markdown",
   "id": "49258544-8b52-4cac-8d47-1c83ee75afbf",
   "metadata": {},
   "source": [
    "#### Hashing the shingles matrix\n",
    "\n",
    "This technique consists in permutating the matrix rows and for each column take the index of the first non-zero value. This will be the new row of the hash matrix. The hash matrix will have number of rows equal to the number of permutations we decided to apply and each column will be the fingerprint of a song.\n",
    "\n",
    "It is important to set a seed because then we'll apply the same permutation to the queries to get their fingerprints."
   ]
  },
  {
   "cell_type": "code",
   "execution_count": 19,
   "id": "3e5bab47-5fd3-41b2-878f-9eb59d02cf12",
   "metadata": {},
   "outputs": [
    {
     "name": "stderr",
     "output_type": "stream",
     "text": [
      "100%|██████████| 20/20 [00:00<00:00, 110.78it/s]\n"
     ]
    }
   ],
   "source": [
    "hash_matrix = f.hash_matrix(matrix, shingles, song_peaks)"
   ]
  },
  {
   "cell_type": "markdown",
   "id": "9bbe6b9b-b2ff-4940-b161-d863f1df747b",
   "metadata": {
    "tags": []
   },
   "source": [
    "# 2. Applying LSH\n",
    "We suggest to read this article in order to have a better idea of the algorithm (https://www.learndatasci.com/tutorials/building-recommendation-engine-locality-sensitive-hashing-lsh-python/).\n",
    "\n",
    "The hash matrix will be divided into **b** bands of **r** rows each. We'll then create a dictionary to find all the songs in which a certain bucket is present. \n",
    "\n",
    "This will allow us when processing a query to only look for the songs contained in the buckets of the query."
   ]
  },
  {
   "cell_type": "code",
   "execution_count": 20,
   "id": "077e2118-ad39-4661-a769-766b293c7b52",
   "metadata": {},
   "outputs": [],
   "source": [
    "buckets = f.db_buckets(hash_matrix, n_bands=5)"
   ]
  },
  {
   "cell_type": "markdown",
   "id": "2f8ca0d2-cccd-45a8-b75f-ef03d57cb466",
   "metadata": {},
   "source": [
    "#### Matching the songs\n",
    "\n",
    "To match a song the steps will be the following:\n",
    "   1. Convert the query to shingles.\n",
    "   2. Apply MinHash and LSH to the shingle set, which maps it to a specific bucket.\n",
    "   3. Conduct a similarity search between the query item and the other items in the bucket."
   ]
  },
  {
   "cell_type": "code",
   "execution_count": 21,
   "id": "81fa5397-985b-42c8-9b28-5725349951e1",
   "metadata": {},
   "outputs": [
    {
     "name": "stdout",
     "output_type": "stream",
     "text": [
      "Im listening to your music, please dont make noise ...\n",
      "Maybe you were looking for this song:  dream on - aerosmith \n",
      "-----------------------\n",
      "\n",
      "Im listening to your music, please dont make noise ...\n",
      "Maybe you were looking for this song:  i want to break free - queen \n",
      "-----------------------\n",
      "\n",
      "Im listening to your music, please dont make noise ...\n",
      "Maybe you were looking for this song:  october - u2 \n",
      "-----------------------\n",
      "\n",
      "Im listening to your music, please dont make noise ...\n",
      "Maybe you were looking for this song:  ob-la-di ob-la-da - beatles \n",
      "-----------------------\n",
      "\n",
      "Im listening to your music, please dont make noise ...\n",
      "Maybe you were looking for this song:  karma police - radiohead \n",
      "-----------------------\n",
      "\n",
      "Im listening to your music, please dont make noise ...\n",
      "Maybe you were looking for this song:  heartbreaker - led zeppelin \n",
      "-----------------------\n",
      "\n",
      "Im listening to your music, please dont make noise ...\n",
      "Maybe you were looking for this song:  go your own way - fleetwood mac \n",
      "-----------------------\n",
      "\n",
      "Im listening to your music, please dont make noise ...\n",
      "Maybe you were looking for this song:  american idiot - green day \n",
      "-----------------------\n",
      "\n",
      "Im listening to your music, please dont make noise ...\n",
      "Maybe you were looking for this song:  somebody - depeche mode \n",
      "-----------------------\n",
      "\n",
      "Im listening to your music, please dont make noise ...\n",
      "Maybe you were looking for this song:  black friday - steely dan \n",
      "-----------------------\n",
      "\n"
     ]
    }
   ],
   "source": [
    "for i in range(1,11):\n",
    "    f.shazamLSH(f.PATH_TEST_QUERY + f'{i}.wav', hash_matrix_rounded, shingles_rounded, buckets)"
   ]
  }
 ],
 "metadata": {
  "kernelspec": {
   "display_name": "Python 3 (ipykernel)",
   "language": "python",
   "name": "python3"
  },
  "language_info": {
   "codemirror_mode": {
    "name": "ipython",
    "version": 3
   },
   "file_extension": ".py",
   "mimetype": "text/x-python",
   "name": "python",
   "nbconvert_exporter": "python",
   "pygments_lexer": "ipython3",
   "version": "3.8.10"
  }
 },
 "nbformat": 4,
 "nbformat_minor": 5
}
